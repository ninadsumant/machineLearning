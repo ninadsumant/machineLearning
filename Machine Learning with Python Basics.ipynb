{
 "cells": [
  {
   "cell_type": "code",
   "execution_count": 4,
   "metadata": {},
   "outputs": [
    {
     "name": "stdout",
     "output_type": "stream",
     "text": [
      "(506, 13)\n"
     ]
    }
   ],
   "source": [
    "from sklearn.datasets import load_boston\n",
    "boston = load_boston()\n",
    "print(boston.data.shape)"
   ]
  },
  {
   "cell_type": "code",
   "execution_count": 5,
   "metadata": {},
   "outputs": [
    {
     "data": {
      "text/plain": [
       "array([0, 0, 1])"
      ]
     },
     "execution_count": 5,
     "metadata": {},
     "output_type": "execute_result"
    }
   ],
   "source": [
    "from sklearn.datasets import load_iris\n",
    "data = load_iris()\n",
    "data.target[[10,25,50]]"
   ]
  },
  {
   "cell_type": "markdown",
   "metadata": {},
   "source": [
    "# Naive-Bayes Algorithm"
   ]
  },
  {
   "cell_type": "code",
   "execution_count": 3,
   "metadata": {},
   "outputs": [
    {
     "name": "stdout",
     "output_type": "stream",
     "text": [
      "['female']\n"
     ]
    },
    {
     "name": "stderr",
     "output_type": "stream",
     "text": [
      "c:\\users\\lenovo\\appdata\\local\\programs\\python\\python37\\lib\\site-packages\\sklearn\\utils\\validation.py:752: DataConversionWarning: A column-vector y was passed when a 1d array was expected. Please change the shape of y to (n_samples, ), for example using ravel().\n",
      "  y = column_or_1d(y, warn=True)\n"
     ]
    },
    {
     "name": "stdout",
     "output_type": "stream",
     "text": [
      "   height  weight  shoeSize\n",
      "0     159      55        44\n",
      "1     160      70        42\n",
      "2     122      36        36\n",
      "3     133      49        40\n",
      "4     184      91        48    gender\n",
      "0    male\n",
      "1    male\n",
      "2  female\n",
      "3  female\n",
      "4    male\n"
     ]
    }
   ],
   "source": [
    "from sklearn.naive_bayes import GaussianNB\n",
    "import pandas as pd\n",
    "import csv\n",
    "gaunb = GaussianNB()\n",
    "df = pd.read_csv('data.csv')\n",
    "\n",
    "X = df[['height','weight','shoeSize']]\n",
    "Y = df[['gender']]\n",
    "gaunb = gaunb.fit(X,Y)\n",
    "prediction = gaunb.predict([[113,41,29]])\n",
    "print(prediction)\n",
    "print(X,Y)"
   ]
  },
  {
   "cell_type": "markdown",
   "metadata": {},
   "source": [
    "# BFS Algorithm"
   ]
  },
  {
   "cell_type": "code",
   "execution_count": 1,
   "metadata": {
    "scrolled": true
   },
   "outputs": [
    {
     "name": "stdout",
     "output_type": "stream",
     "text": [
      "[['Ninad', 'Dinesh', 'Rohan'], ['Ninad', 'Shrikar', 'Anuj', 'Rohan']]\n",
      "Shortest Path is:  ['Ninad', 'Dinesh', 'Rohan']\n"
     ]
    }
   ],
   "source": [
    "graph = {'Ninad': set(['Shrikar', 'Dinesh']),\n",
    "         'Shrikar': set(['Ninad', 'Advait', 'Anuj']),\n",
    "         'Dinesh': set(['Ninad', 'Rohan']),\n",
    "         'Advait': set(['Shrikar']),\n",
    "         'Anuj': set(['Shrikar', 'Rohan']),\n",
    "         'Rohan': set(['Dinesh', 'Anuj'])}\n",
    "\n",
    "def path(graph, st, goal):\n",
    "    q = [(st, [st])]\n",
    "    while q:\n",
    "        (vertex, path) = q.pop(0)\n",
    "        for next in graph[vertex] - set(path):\n",
    "            if next == goal:\n",
    "                yield path + [next]\n",
    "            else:\n",
    "                q.append((next, path + [next]))\n",
    "\n",
    "print(list(path(graph, 'Ninad', 'Rohan')))\n",
    "\n",
    "def shortestpath(graph, st, goal):\n",
    "\n",
    "        return next(path(graph, st, goal))\n",
    "\n",
    "print(\"Shortest Path is: \",shortestpath(graph, 'Ninad', 'Rohan'))"
   ]
  },
  {
   "cell_type": "markdown",
   "metadata": {},
   "source": [
    "# DFS Algorithm"
   ]
  },
  {
   "cell_type": "code",
   "execution_count": null,
   "metadata": {},
   "outputs": [],
   "source": [
    "graph = {'Ninad': set(['Shrikar', 'Dinesh']),\n",
    "         'Shrikar': set(['Ninad', 'Advait', 'Anuj']),\n",
    "         'Dinesh': set(['Ninad', 'Rohan']),\n",
    "         'Advait': set(['Shrikar']),\n",
    "         'Anuj': set(['Shrikar', 'Rohan']),\n",
    "         'Rohan': set(['Dinesh', 'Anuj'])}\n",
    "\n",
    "stack=[1]\n",
    "def push(e):\n",
    "    stack.insert(0,e)\n",
    "\n",
    "def pop():\n",
    "    return stack.pop(0)\n",
    "\n",
    "visited=[]\n",
    "\n",
    "while len(stack)!=0:\n",
    "    e=pop()\n",
    "    if e in visited: \n",
    "        pass\n",
    "    else:\n",
    "        visited.append(e)\n",
    "    for k in graph:\n",
    "        push(k)\n",
    "print(visited)"
   ]
  },
  {
   "cell_type": "markdown",
   "metadata": {},
   "source": [
    "# KNN Algorithm"
   ]
  },
  {
   "cell_type": "code",
   "execution_count": 3,
   "metadata": {},
   "outputs": [
    {
     "name": "stdout",
     "output_type": "stream",
     "text": [
      "      x     y cat\n",
      "0  -1.0  -3.0  c1\n",
      "1  -1.0  -1.0  c1\n",
      "2  -2.0   1.0  c1\n",
      "3   1.0   1.0  c2\n",
      "4   2.0   1.0  c2\n",
      "5   3.0   2.0  c2\n"
     ]
    },
    {
     "name": "stderr",
     "output_type": "stream",
     "text": [
      "c:\\users\\lenovo\\appdata\\local\\programs\\python\\python37\\lib\\site-packages\\ipykernel_launcher.py:10: DeprecationWarning: \n",
      ".ix is deprecated. Please use\n",
      ".loc for label based indexing or\n",
      ".iloc for positional indexing\n",
      "\n",
      "See the documentation here:\n",
      "http://pandas.pydata.org/pandas-docs/stable/indexing.html#ix-indexer-is-deprecated\n",
      "  # Remove the CWD from sys.path while we load stuff.\n",
      "c:\\users\\lenovo\\appdata\\local\\programs\\python\\python37\\lib\\site-packages\\ipykernel_launcher.py:11: DeprecationWarning: \n",
      ".ix is deprecated. Please use\n",
      ".loc for label based indexing or\n",
      ".iloc for positional indexing\n",
      "\n",
      "See the documentation here:\n",
      "http://pandas.pydata.org/pandas-docs/stable/indexing.html#ix-indexer-is-deprecated\n",
      "  # This is added back by InteractiveShellApp.init_path()\n",
      "c:\\users\\lenovo\\appdata\\local\\programs\\python\\python37\\lib\\site-packages\\ipykernel_launcher.py:13: DeprecationWarning: \n",
      ".ix is deprecated. Please use\n",
      ".loc for label based indexing or\n",
      ".iloc for positional indexing\n",
      "\n",
      "See the documentation here:\n",
      "http://pandas.pydata.org/pandas-docs/stable/indexing.html#ix-indexer-is-deprecated\n",
      "  del sys.path[0]\n"
     ]
    },
    {
     "data": {
      "text/plain": [
       "<Figure size 640x480 with 1 Axes>"
      ]
     },
     "metadata": {},
     "output_type": "display_data"
    }
   ],
   "source": [
    "import pandas as pd\n",
    "import numpy as np\n",
    "import matplotlib.pyplot as plt\n",
    "data = np.array([[-1.0,-3.0,'c1'],[-1.0,-1.0,'c1'],[-2.0,1.0,'c1'],[1.0,1.0,'c2'],[2.0,1.0,'c2'],[3.0,2.0,'c2']])\n",
    "query=[-2.5,-1.5]\n",
    "df = pd.DataFrame(data)\n",
    "df.columns=['x','y','cat']\n",
    "print(df)\n",
    "for i in range(6):\n",
    "    if(df.ix[i]['cat']=='c1'):\n",
    "        plt.scatter(df.ix[i]['x'],df.ix[i]['y'], c = 'r', s=150)\n",
    "    else:\n",
    "        plt.scatter(df.ix[i]['x'],df.ix[i]['y'], c = 'g', s=150)\n",
    "plt.scatter(query[0],query[1],s=200, c= 'y')\n",
    "plt.grid()\n",
    "plt.show()\n",
    "        "
   ]
  },
  {
   "cell_type": "code",
   "execution_count": 4,
   "metadata": {},
   "outputs": [
    {
     "name": "stdout",
     "output_type": "stream",
     "text": [
      "    0    1    2     3     4     5    6    7    8    9  ...    54   55   56  \\\n",
      "0  0.0  0.0  5.0  13.0   9.0   1.0  0.0  0.0  0.0  0.0 ...   0.0  0.0  0.0   \n",
      "1  0.0  0.0  0.0  12.0  13.0   5.0  0.0  0.0  0.0  0.0 ...   0.0  0.0  0.0   \n",
      "2  0.0  0.0  0.0   4.0  15.0  12.0  0.0  0.0  0.0  0.0 ...   5.0  0.0  0.0   \n",
      "3  0.0  0.0  7.0  15.0  13.0   1.0  0.0  0.0  0.0  8.0 ...   9.0  0.0  0.0   \n",
      "4  0.0  0.0  0.0   1.0  11.0   0.0  0.0  0.0  0.0  0.0 ...   0.0  0.0  0.0   \n",
      "\n",
      "    57   58    59    60    61   62   63  \n",
      "0  0.0  6.0  13.0  10.0   0.0  0.0  0.0  \n",
      "1  0.0  0.0  11.0  16.0  10.0  0.0  0.0  \n",
      "2  0.0  0.0   3.0  11.0  16.0  9.0  0.0  \n",
      "3  0.0  7.0  13.0  13.0   9.0  0.0  0.0  \n",
      "4  0.0  0.0   2.0  16.0   4.0  0.0  0.0  \n",
      "\n",
      "[5 rows x 64 columns]\n",
      "[3]\n",
      "[0 1 2 3 4 5 6 7 8 9]\n",
      "dict_keys(['data', 'target', 'target_names', 'images', 'DESCR'])\n"
     ]
    }
   ],
   "source": [
    "\n",
    "from sklearn.neighbors import KNeighborsClassifier\n",
    "from sklearn.datasets import *\n",
    "import numpy as np\n",
    "import pandas as pd\n",
    "digit=load_digits()\n",
    "dig=pd.DataFrame(digit['data'][0:1700])\n",
    "print(dig.head())\n",
    "#plt.imshow(digit['imageas'][0])\n",
    "#plt.show()\n",
    "\n",
    "train_x=digit['data'][0:1700]\n",
    "train_y=digit['target'][0:1700]\n",
    "\n",
    "knn=KNeighborsClassifier(5)\n",
    "knn.fit(train_x,train_y)\n",
    "\n",
    "test = np.array(digit['data'][1726])\n",
    "test1 = test.reshape(1,-1)\n",
    "\n",
    "print(knn.predict(test1))\n",
    "print(digit['target_names'])\n",
    "\n",
    "print(digit.keys())\n"
   ]
  },
  {
   "cell_type": "markdown",
   "metadata": {},
   "source": [
    "# Linear Regression"
   ]
  },
  {
   "cell_type": "code",
   "execution_count": 3,
   "metadata": {
    "scrolled": true
   },
   "outputs": [
    {
     "name": "stdout",
     "output_type": "stream",
     "text": [
      "Values of X [1 2 3 4 5]\n",
      "Values of Y [1 3 3 2 5]\n",
      "Mean of x:  3.0\n",
      "Mean of y:  2.8\n",
      "\n",
      " A = Deviation of X  [-2.0, -1.0, 0.0, 1.0, 2.0]\n",
      "0.0\n",
      "\n",
      " B = Deviation of Y  [-1.7999999999999998, 0.20000000000000018, 0.20000000000000018, -0.7999999999999998, 2.2]\n",
      "Product Of A and B  [3.5999999999999996, -0.20000000000000018, 0.0, -0.7999999999999998, 4.4]\n",
      "Value of N : 7.0\n",
      "Square of A  [4.0, 1.0, 0.0, 1.0, 4.0]\n",
      "Value of D:  10.0\n",
      "Value Of B0 : 0.7000000000000002\n",
      "Value Of B1 : 0.7\n",
      "\n",
      " Predicted Y  [1.4000000000000001, 2.1, 2.8, 3.5, 4.2]\n",
      "RMSE : 0.7464200272921788\n"
     ]
    }
   ],
   "source": [
    "import math\n",
    "import numpy as np\n",
    "\n",
    "x = np.array([1,2,3,4,5])\n",
    "y = np.array([1,3,3,2,5])\n",
    "x_mean = np.mean(x)\n",
    "y_mean = np.mean(y)\n",
    "print(\"Values of X\", x)\n",
    "print(\"Values of Y\", y)\n",
    "print (\"Mean of x: \",x_mean)\n",
    "print (\"Mean of y: \",y_mean)\n",
    "dev_x = []\n",
    "dev_y = []\n",
    "product= []\n",
    "square_a = []\n",
    "y_predicted = []\n",
    "error = []\n",
    "for num in x:\n",
    "    c = num - x_mean\n",
    "    dev_x.append(c)\n",
    "print(\"\\n A = Deviation of X \", dev_x)\n",
    "print(sum(dev_x))\n",
    "\n",
    "for num in y:\n",
    "    d = num - y_mean\n",
    "    dev_y.append(d)\n",
    "print(\"\\n B = Deviation of Y \", dev_y)\n",
    "\n",
    "product = [dev_x[i]*dev_y[i] for i in range(len(x))]\n",
    "print(\"Product Of A and B \", product)\n",
    "\n",
    "N = sum(product)\n",
    "print(\"Value of N :\", N)\n",
    "\n",
    "square_A =  [dev_x[i]*dev_x[i] for i in range(len(x))]\n",
    "print(\"Square of A \",square_A)\n",
    "\n",
    "D = sum(square_A)\n",
    "print(\"Value of D: \",D)\n",
    "\n",
    "B1 = N/D\n",
    "B0 = (y_mean - (B1 * x_mean))\n",
    "\n",
    "print(\"Value Of B0 :\", B0)\n",
    "print(\"Value Of B1 :\",B1)\n",
    "\n",
    "for i in x:\n",
    "    y_predicted.append(B0 + (B1 * i))\n",
    "print(\"\\n Predicted Y \", y_predicted)\n",
    "\n",
    "error = [(y_predicted[i] - y[i]) ** 2 for i in range(len(x))]\n",
    "\n",
    "#print(error)\n",
    "\n",
    "RMSE = math.sqrt((sum(error)/N))\n",
    "print(\"RMSE :\", RMSE)"
   ]
  },
  {
   "cell_type": "code",
   "execution_count": 17,
   "metadata": {},
   "outputs": [
    {
     "data": {
      "text/plain": [
       "[-1.4]"
      ]
     },
     "execution_count": 17,
     "metadata": {},
     "output_type": "execute_result"
    }
   ],
   "source": [
    "\n",
    "first = [1, 2, 3, 4, 5]\n",
    "second = [6, 7, 8, 9, 10]\n",
    "d = 2.4\n",
    "\n",
    "three = list(map(lambda x,y: x-y,first,[d]))\n",
    "three\n"
   ]
  },
  {
   "cell_type": "markdown",
   "metadata": {},
   "source": [
    "# CSP"
   ]
  },
  {
   "cell_type": "markdown",
   "metadata": {},
   "source": [
    "for CSP technique use install python-constraint packagr, and import constraint package"
   ]
  },
  {
   "cell_type": "code",
   "execution_count": 29,
   "metadata": {},
   "outputs": [
    {
     "data": {
      "text/plain": [
       "[{'a': 9, 'b': 1},\n",
       " {'a': 8, 'b': 2},\n",
       " {'a': 7, 'b': 3},\n",
       " {'a': 6, 'b': 4},\n",
       " {'a': 5, 'b': 5},\n",
       " {'a': 4, 'b': 6},\n",
       " {'a': 3, 'b': 7},\n",
       " {'a': 2, 'b': 8},\n",
       " {'a': 1, 'b': 9}]"
      ]
     },
     "execution_count": 29,
     "metadata": {},
     "output_type": "execute_result"
    }
   ],
   "source": [
    "import constraint\n",
    "from constraint import *\n",
    "problem = Problem()\n",
    "problem.addVariable(\"a\",range(0,10))\n",
    "problem.addVariable(\"b\",range(0,10))\n",
    "problem.addConstraint(lambda a,b: a+b == 10, [\"a\",\"b\"])\n",
    "solutions = problem.getSolutions()\n",
    "solutions"
   ]
  },
  {
   "cell_type": "code",
   "execution_count": 47,
   "metadata": {},
   "outputs": [
    {
     "name": "stdout",
     "output_type": "stream",
     "text": [
      "10 20\n",
      "9 18\n",
      "8 16\n",
      "7 14\n",
      "6 12\n",
      "6 18\n",
      "5 10\n",
      "5 15\n",
      "5 20\n",
      "4 8\n",
      "4 16\n",
      "4 12\n",
      "4 20\n",
      "3 6\n",
      "3 9\n",
      "3 18\n",
      "3 15\n",
      "3 12\n",
      "2 4\n",
      "2 14\n",
      "2 10\n",
      "2 8\n",
      "2 16\n",
      "2 20\n",
      "2 6\n",
      "2 18\n",
      "2 12\n",
      "1 2\n",
      "1 3\n",
      "1 5\n",
      "1 7\n",
      "1 19\n",
      "1 17\n",
      "1 13\n",
      "1 11\n",
      "1 9\n",
      "1 15\n",
      "1 4\n",
      "1 14\n",
      "1 10\n",
      "1 8\n",
      "1 16\n",
      "1 20\n",
      "1 6\n",
      "1 18\n",
      "1 12\n"
     ]
    }
   ],
   "source": [
    "import constraint\n",
    "from constraint import *\n",
    "problem = Problem()\n",
    "problem.addVariable(\"a\",range(1,21))\n",
    "problem.addVariable(\"b\",range(1,11))\n",
    "problem.addConstraint(lambda a,b: a%b == 0, [\"a\",\"b\"])\n",
    "problem.addConstraint(AllDifferentConstraint(), [\"a\",\"b\"])\n",
    "\n",
    "solutions = problem.getSolutions()\n",
    "for solution in solutions:\n",
    "    print(solution.get(a),solution.get(b))"
   ]
  },
  {
   "cell_type": "code",
   "execution_count": 85,
   "metadata": {},
   "outputs": [
    {
     "name": "stdout",
     "output_type": "stream",
     "text": [
      "9 0\n",
      "8 1\n",
      "8 0\n",
      "7 3\n",
      "7 2\n",
      "7 1\n",
      "7 0\n",
      "6 5\n",
      "6 4\n",
      "6 3\n",
      "6 2\n",
      "6 1\n",
      "6 0\n",
      "5 5\n",
      "5 4\n",
      "5 3\n",
      "5 2\n",
      "5 1\n",
      "5 0\n",
      "4 6\n",
      "4 5\n",
      "4 4\n",
      "4 3\n",
      "4 2\n",
      "4 1\n",
      "4 0\n",
      "3 6\n",
      "3 5\n",
      "3 4\n",
      "3 3\n",
      "3 2\n",
      "3 1\n",
      "3 0\n",
      "2 7\n",
      "2 6\n",
      "2 5\n",
      "2 4\n",
      "2 3\n",
      "2 2\n",
      "2 1\n",
      "2 0\n",
      "1 7\n",
      "1 6\n",
      "1 5\n",
      "1 4\n",
      "1 3\n",
      "1 2\n",
      "1 1\n",
      "1 0\n",
      "0 8\n",
      "0 7\n",
      "0 6\n",
      "0 5\n",
      "0 4\n",
      "0 3\n",
      "0 2\n",
      "0 1\n",
      "0 0\n",
      "[18, 21, 16, 29, 24, 19, 14, 37, 32, 27, 22, 17, 12, 35, 30, 25, 20, 15, 10, 38, 33, 28, 23, 18, 13, 8, 36, 31, 26, 21, 16, 11, 6, 39, 34, 29, 24, 19, 14, 9, 4, 37, 32, 27, 22, 17, 12, 7, 2, 40, 35, 30, 25, 20, 15, 10, 5, 0]\n",
      "40\n",
      "Number of Solutions: 58\n"
     ]
    },
    {
     "data": {
      "text/plain": [
       "40"
      ]
     },
     "execution_count": 85,
     "metadata": {},
     "output_type": "execute_result"
    }
   ],
   "source": [
    "import constraint\n",
    "from constraint import *\n",
    "count=0\n",
    "problem = Problem()\n",
    "equ=[]\n",
    "problem.addVariable(\"a\",range(0,20))\n",
    "problem.addVariable(\"b\",range(0,20))\n",
    "problem.addConstraint(lambda a,b: 5*a+3*b <= 45, [\"a\",\"b\"])\n",
    "problem.addConstraint(lambda a,b: a+2*b <= 16, [\"a\",\"b\"])\n",
    "solutions = problem.getSolutions()\n",
    "for solution in solutions:\n",
    "    count+=1;\n",
    "    c=solution.get('a')\n",
    "    d=solution.get('b')\n",
    "    print(c,d)\n",
    "    equ.append((2*c)+(5*d))\n",
    "print(equ)\n",
    "print(max(equ))\n",
    "print(\"Number of Solutions:\", count)\n",
    "y=max([2*x.get('a')+5*x.get('b') for x in solutions])\n",
    "y"
   ]
  },
  {
   "cell_type": "markdown",
   "metadata": {},
   "source": [
    "# K-Means"
   ]
  },
  {
   "cell_type": "code",
   "execution_count": 1,
   "metadata": {},
   "outputs": [
    {
     "data": {
      "text/plain": [
       "<Figure size 1400x700 with 2 Axes>"
      ]
     },
     "metadata": {},
     "output_type": "display_data"
    }
   ],
   "source": [
    "import matplotlib.pyplot as plt\n",
    "from sklearn import datasets\n",
    "from sklearn.cluster import KMeans\n",
    "#import sklearn.metrics as sm\n",
    "import pandas as pd\n",
    "import numpy as np\n",
    "\n",
    "iris = datasets.load_iris()\n",
    "x = pd.DataFrame(iris.data)\n",
    "x.columns = ['Sepal_Length','Sepal_Width','Petal_Length','Petal_Width']\n",
    "y = pd.DataFrame(iris.target)\n",
    "y.columns = ['Targets']\n",
    "model = KMeans(n_clusters=3)\n",
    "model.fit(x)\n",
    "model.labels_\n",
    "plt.figure(figsize=(14,7))\n",
    "\n",
    "colormap = np.array(['red','lime','black'])\n",
    "\n",
    "plt.subplot(1,2,1)\n",
    "plt.scatter(x.Petal_Length, x.Petal_Width, c=colormap[y.Targets],s=40)\n",
    "plt.title('Real Classification')\n",
    "\n",
    "plt.subplot(1, 2, 2)\n",
    "plt.scatter(x.Petal_Length,x.Petal_Width,c=colormap[model.labels_], s=40)\n",
    "plt.title('K Mean Classification')\n",
    "plt.show()"
   ]
  },
  {
   "cell_type": "markdown",
   "metadata": {},
   "source": [
    "# tic tac toe"
   ]
  },
  {
   "cell_type": "code",
   "execution_count": null,
   "metadata": {},
   "outputs": [],
   "source": []
  }
 ],
 "metadata": {
  "kernelspec": {
   "display_name": "Python 3",
   "language": "python",
   "name": "python3"
  },
  "language_info": {
   "codemirror_mode": {
    "name": "ipython",
    "version": 3
   },
   "file_extension": ".py",
   "mimetype": "text/x-python",
   "name": "python",
   "nbconvert_exporter": "python",
   "pygments_lexer": "ipython3",
   "version": "3.7.1"
  }
 },
 "nbformat": 4,
 "nbformat_minor": 2
}
