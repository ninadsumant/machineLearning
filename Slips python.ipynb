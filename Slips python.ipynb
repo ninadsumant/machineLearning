{
 "cells": [
  {
   "cell_type": "markdown",
   "metadata": {},
   "source": [
    "# Slip-1"
   ]
  },
  {
   "cell_type": "code",
   "execution_count": 1,
   "metadata": {},
   "outputs": [
    {
     "name": "stdout",
     "output_type": "stream",
     "text": [
      "Input some integers to calculate their sum and average. Input 0 to exit.\n",
      "5\n",
      "5\n",
      "0\n",
      "Average and Sum of the above numbers are:  5.0 10.0\n"
     ]
    }
   ],
   "source": [
    "print(\"Input some integers to calculate their sum and average. Input 0 to exit.\")\n",
    "\n",
    "count = 0\n",
    "sum = 0.0\n",
    "number = 1\n",
    "\n",
    "while number != 0:\n",
    "\tnumber = int(input(\"\"))\n",
    "\tsum = sum + number\n",
    "\tcount += 1\n",
    "\n",
    "if count == 0:\n",
    "\tprint(\"Input some numbers\")\n",
    "else:\n",
    "\tprint(\"Average and Sum of the above numbers are: \", sum / (count-1), sum)"
   ]
  },
  {
   "cell_type": "code",
   "execution_count": 2,
   "metadata": {},
   "outputs": [
    {
     "name": "stdout",
     "output_type": "stream",
     "text": [
      "[['Ninad', 'Dinesh', 'Rohan'], ['Ninad', 'Shrikar', 'Anuj', 'Rohan']]\n"
     ]
    }
   ],
   "source": [
    "graph = {'Ninad': set(['Shrikar', 'Dinesh']),\n",
    "         'Shrikar': set(['Ninad', 'Advait', 'Anuj']),\n",
    "         'Dinesh': set(['Ninad', 'Rohan']),\n",
    "         'Advait': set(['Shrikar']),\n",
    "         'Anuj': set(['Shrikar', 'Rohan']),\n",
    "         'Rohan': set(['Dinesh', 'Anuj'])}\n",
    "\n",
    "def path(graph, st, goal):\n",
    "    q = [(st, [st])]\n",
    "    while q:\n",
    "        (vertex, path) = q.pop(0)\n",
    "        for next in graph[vertex] - set(path):\n",
    "            if next == goal:\n",
    "                yield path + [next]\n",
    "            else:\n",
    "                q.append((next, path + [next]))\n",
    "\n",
    "print(list(path(graph, 'Ninad', 'Rohan')))\n",
    "\n",
    "def shortestpath(graph, st, goal):\n",
    "\n",
    "        return next(path(graph, st, goal))"
   ]
  },
  {
   "cell_type": "code",
   "execution_count": 3,
   "metadata": {},
   "outputs": [
    {
     "name": "stdout",
     "output_type": "stream",
     "text": [
      "['female']\n",
      "   height  weight  shoeSize\n",
      "0     159      55        44\n",
      "1     160      70        42\n",
      "2     122      36        36\n",
      "3     133      49        40\n",
      "4     184      91        48    gender\n",
      "0    male\n",
      "1    male\n",
      "2  female\n",
      "3  female\n",
      "4    male\n"
     ]
    },
    {
     "name": "stderr",
     "output_type": "stream",
     "text": [
      "c:\\users\\lenovo\\appdata\\local\\programs\\python\\python37\\lib\\site-packages\\sklearn\\utils\\validation.py:752: DataConversionWarning: A column-vector y was passed when a 1d array was expected. Please change the shape of y to (n_samples, ), for example using ravel().\n",
      "  y = column_or_1d(y, warn=True)\n"
     ]
    }
   ],
   "source": [
    "from sklearn.naive_bayes import GaussianNB\n",
    "import pandas as pd\n",
    "import csv\n",
    "gaunb = GaussianNB()\n",
    "df = pd.read_csv('data.csv')\n",
    "\n",
    "X = df[['height','weight','shoeSize']]\n",
    "Y = df[['gender']]\n",
    "gaunb = gaunb.fit(X,Y)\n",
    "prediction = gaunb.predict([[113,41,29]])\n",
    "print(prediction)\n",
    "print(X,Y)"
   ]
  },
  {
   "cell_type": "markdown",
   "metadata": {},
   "source": [
    "# Slip-2"
   ]
  },
  {
   "cell_type": "code",
   "execution_count": 4,
   "metadata": {},
   "outputs": [
    {
     "name": "stdout",
     "output_type": "stream",
     "text": [
      "Input a dog's age in human years: 2\n",
      "The dog's age in dog's years is 21.0\n"
     ]
    }
   ],
   "source": [
    "h_age = int(input(\"Input a dog's age in human years: \"))\n",
    "\n",
    "if h_age < 0:\n",
    "\tprint(\"Age must be positive number.\")\n",
    "\texit()\n",
    "elif h_age <= 2:\n",
    "\td_age = h_age * 10.5\n",
    "else:\n",
    "\td_age = 21 + (h_age - 2)*4\n",
    "\n",
    "print(\"The dog's age in dog's years is\", d_age)"
   ]
  },
  {
   "cell_type": "code",
   "execution_count": 5,
   "metadata": {},
   "outputs": [
    {
     "name": "stdout",
     "output_type": "stream",
     "text": [
      "1|2|3\n",
      "4|5|6\n",
      "7|8|9\n",
      "Player 1(X): Choose a Position (1-9): 1\n",
      "X|2|3\n",
      "4|5|6\n",
      "7|8|9\n",
      "Player 2(O): Choose a Position (1-9): 2\n",
      "X|O|3\n",
      "4|5|6\n",
      "7|8|9\n",
      "Player 1(X): Choose a Position (1-9): 5\n",
      "X|O|3\n",
      "4|X|6\n",
      "7|8|9\n",
      "Player 2(O): Choose a Position (1-9): 3\n",
      "X|O|O\n",
      "4|X|6\n",
      "7|8|9\n",
      "Player 1(X): Choose a Position (1-9): 9\n",
      "X|O|O\n",
      "4|X|6\n",
      "7|8|X\n",
      "You Win!\n"
     ]
    }
   ],
   "source": [
    "displayList = list(\"1|2|3\\n4|5|6\\n7|8|9\")\n",
    "board = list(\" 123456789\")\n",
    "\n",
    "#return true if there is a digit in the string\n",
    "def hasDigit(word):\n",
    "    digits = \" 12346789\"\n",
    "    for i in range(0,len(word)):\n",
    "        if(word[i] == digits[i]):\n",
    "            return True\n",
    "\n",
    "def winningPos(first,second,third,pos):\n",
    "    return board[first] == pos and board[second] == pos and board[third] == pos\n",
    "\n",
    "#return true if the player wins\n",
    "def isWin(pos):\n",
    "    return ( winningPos(1,5,9,pos) or winningPos(3,5,7,pos) or\n",
    "             winningPos(1,2,3,pos) or winningPos(4,5,6,pos) or\n",
    "             winningPos(7,8,9,pos) or winningPos(1,4,7,pos) or\n",
    "             winningPos(2,5,8,pos) or winningPos(3,6,9,pos) )\n",
    "\n",
    "def assign(choice,letter):\n",
    "    for i in range(0,len(board)):\n",
    "        if(board[i] == choice):\n",
    "            board[i] = letter\n",
    "\n",
    "    for i in range(0,len(displayList)):\n",
    "        if(choice == displayList[i]):\n",
    "            displayList[i] = letter\n",
    "\n",
    "print(''.join(displayList))\n",
    "\n",
    "while(hasDigit(\"\".join(board))):\n",
    "    playerInput = input(\"Player 1(X): Choose a Position (1-9): \")\n",
    "    assign(playerInput,\"X\")\n",
    "\n",
    "    print(''.join(displayList))\n",
    "\n",
    "    if(isWin(\"X\")):\n",
    "        print(\"You Win!\")\n",
    "        break\n",
    "\n",
    "    opponnentInput = input(\"Player 2(O): Choose a Position (1-9): \")\n",
    "    assign(opponnentInput,\"O\")\n",
    "\n",
    "    print(''.join(displayList))\n",
    "\n",
    "    if(isWin(\"O\")):\n",
    "        print(\"Player 2 Wins!\")\n",
    "        break"
   ]
  },
  {
   "cell_type": "code",
   "execution_count": 6,
   "metadata": {},
   "outputs": [
    {
     "name": "stdout",
     "output_type": "stream",
     "text": [
      "    0    1    2     3     4     5    6    7    8    9  ...    54   55   56  \\\n",
      "0  0.0  0.0  5.0  13.0   9.0   1.0  0.0  0.0  0.0  0.0 ...   0.0  0.0  0.0   \n",
      "1  0.0  0.0  0.0  12.0  13.0   5.0  0.0  0.0  0.0  0.0 ...   0.0  0.0  0.0   \n",
      "2  0.0  0.0  0.0   4.0  15.0  12.0  0.0  0.0  0.0  0.0 ...   5.0  0.0  0.0   \n",
      "3  0.0  0.0  7.0  15.0  13.0   1.0  0.0  0.0  0.0  8.0 ...   9.0  0.0  0.0   \n",
      "4  0.0  0.0  0.0   1.0  11.0   0.0  0.0  0.0  0.0  0.0 ...   0.0  0.0  0.0   \n",
      "\n",
      "    57   58    59    60    61   62   63  \n",
      "0  0.0  6.0  13.0  10.0   0.0  0.0  0.0  \n",
      "1  0.0  0.0  11.0  16.0  10.0  0.0  0.0  \n",
      "2  0.0  0.0   3.0  11.0  16.0  9.0  0.0  \n",
      "3  0.0  7.0  13.0  13.0   9.0  0.0  0.0  \n",
      "4  0.0  0.0   2.0  16.0   4.0  0.0  0.0  \n",
      "\n",
      "[5 rows x 64 columns]\n",
      "[3]\n",
      "[0 1 2 3 4 5 6 7 8 9]\n",
      "dict_keys(['data', 'target', 'target_names', 'images', 'DESCR'])\n"
     ]
    }
   ],
   "source": [
    "\n",
    "from sklearn.neighbors import KNeighborsClassifier\n",
    "from sklearn.datasets import *\n",
    "import numpy as np\n",
    "import pandas as pd\n",
    "digit=load_digits()\n",
    "dig=pd.DataFrame(digit['data'][0:1700])\n",
    "print(dig.head())\n",
    "#plt.imshow(digit['imageas'][0])\n",
    "#plt.show()\n",
    "\n",
    "train_x=digit['data'][0:1700]\n",
    "train_y=digit['target'][0:1700]\n",
    "\n",
    "knn=KNeighborsClassifier(5)\n",
    "knn.fit(train_x,train_y)\n",
    "\n",
    "test = np.array(digit['data'][1726])\n",
    "test1 = test.reshape(1,-1)\n",
    "\n",
    "print(knn.predict(test1))\n",
    "print(digit['target_names'])\n",
    "\n",
    "print(digit.keys())\n"
   ]
  },
  {
   "cell_type": "markdown",
   "metadata": {},
   "source": [
    "# SLIP-3"
   ]
  },
  {
   "cell_type": "code",
   "execution_count": 7,
   "metadata": {},
   "outputs": [
    {
     "name": "stdout",
     "output_type": "stream",
     "text": [
      "[{'id': 1, 'subject': 'math', 'V+VI': 76.0}, {'id': 2, 'subject': 'math', 'V+VI': 73.5}, {'id': 3, 'subject': 'math', 'V+VI': 80.5}]\n"
     ]
    }
   ],
   "source": [
    "def sum_math_v_vi_average(list_of_dicts):\n",
    "    for d in list_of_dicts:\n",
    "        n1 = d.pop('V')\n",
    "        n2 = d.pop('VI')\n",
    "        d['V+VI'] = (n1 + n2)/2\n",
    "    return list_of_dicts \n",
    "student_details= [\n",
    "  {'id' : 1, 'subject' : 'math', 'V' : 70, 'VI' : 82},\n",
    "  {'id' : 2, 'subject' : 'math', 'V' : 73, 'VI' : 74},\n",
    "  {'id' : 3, 'subject' : 'math', 'V' : 75, 'VI' : 86}\n",
    "]\n",
    "print(sum_math_v_vi_average(student_details))"
   ]
  },
  {
   "cell_type": "code",
   "execution_count": 8,
   "metadata": {},
   "outputs": [
    {
     "name": "stdout",
     "output_type": "stream",
     "text": [
      "[['Ninad', 'Dinesh', 'Rohan'], ['Ninad', 'Shrikar', 'Anuj', 'Rohan']]\n"
     ]
    }
   ],
   "source": [
    "graph = {'Ninad': set(['Shrikar', 'Dinesh']),\n",
    "         'Shrikar': set(['Ninad', 'Advait', 'Anuj']),\n",
    "         'Dinesh': set(['Ninad', 'Rohan']),\n",
    "         'Advait': set(['Shrikar']),\n",
    "         'Anuj': set(['Shrikar', 'Rohan']),\n",
    "         'Rohan': set(['Dinesh', 'Anuj'])}\n",
    "\n",
    "def path(graph, st, goal):\n",
    "    q = [(st, [st])]\n",
    "    while q:\n",
    "        (vertex, path) = q.pop(0)\n",
    "        for next in graph[vertex] - set(path):\n",
    "            if next == goal:\n",
    "                yield path + [next]\n",
    "            else:\n",
    "                q.append((next, path + [next]))\n",
    "\n",
    "print(list(path(graph, 'Ninad', 'Rohan')))\n",
    "\n",
    "def shortestpath(graph, st, goal):\n",
    "\n",
    "        return next(path(graph, st, goal))"
   ]
  },
  {
   "cell_type": "code",
   "execution_count": 12,
   "metadata": {},
   "outputs": [
    {
     "name": "stdout",
     "output_type": "stream",
     "text": [
      "Values of X [1 2 3 4 5]\n",
      "Values of Y [1 3 3 2 5]\n",
      "Mean of x:  3.0\n",
      "Mean of y:  2.8\n",
      "\n",
      " A = Deviation of X  [-2.0, -1.0, 0.0, 1.0, 2.0]\n"
     ]
    },
    {
     "ename": "TypeError",
     "evalue": "'float' object is not callable",
     "output_type": "error",
     "traceback": [
      "\u001b[1;31m---------------------------------------------------------------------------\u001b[0m",
      "\u001b[1;31mTypeError\u001b[0m                                 Traceback (most recent call last)",
      "\u001b[1;32m<ipython-input-12-9aaf693a64a8>\u001b[0m in \u001b[0;36m<module>\u001b[1;34m\u001b[0m\n\u001b[0;32m     20\u001b[0m     \u001b[0mdev_x\u001b[0m\u001b[1;33m.\u001b[0m\u001b[0mappend\u001b[0m\u001b[1;33m(\u001b[0m\u001b[0mc\u001b[0m\u001b[1;33m)\u001b[0m\u001b[1;33m\u001b[0m\u001b[1;33m\u001b[0m\u001b[0m\n\u001b[0;32m     21\u001b[0m \u001b[0mprint\u001b[0m\u001b[1;33m(\u001b[0m\u001b[1;34m\"\\n A = Deviation of X \"\u001b[0m\u001b[1;33m,\u001b[0m \u001b[0mdev_x\u001b[0m\u001b[1;33m)\u001b[0m\u001b[1;33m\u001b[0m\u001b[1;33m\u001b[0m\u001b[0m\n\u001b[1;32m---> 22\u001b[1;33m \u001b[0mprint\u001b[0m\u001b[1;33m(\u001b[0m\u001b[0msum\u001b[0m\u001b[1;33m(\u001b[0m\u001b[0mdev_x\u001b[0m\u001b[1;33m)\u001b[0m\u001b[1;33m)\u001b[0m\u001b[1;33m\u001b[0m\u001b[1;33m\u001b[0m\u001b[0m\n\u001b[0m\u001b[0;32m     23\u001b[0m \u001b[1;33m\u001b[0m\u001b[0m\n\u001b[0;32m     24\u001b[0m \u001b[1;32mfor\u001b[0m \u001b[0mnum\u001b[0m \u001b[1;32min\u001b[0m \u001b[0my\u001b[0m\u001b[1;33m:\u001b[0m\u001b[1;33m\u001b[0m\u001b[1;33m\u001b[0m\u001b[0m\n",
      "\u001b[1;31mTypeError\u001b[0m: 'float' object is not callable"
     ]
    }
   ],
   "source": [
    "import math\n",
    "import numpy as np\n",
    "\n",
    "x = np.array([1,2,3,4,5])\n",
    "y = np.array([1,3,3,2,5])\n",
    "x_mean = np.mean(x)\n",
    "y_mean = np.mean(y)\n",
    "print(\"Values of X\", x)\n",
    "print(\"Values of Y\", y)\n",
    "print (\"Mean of x: \",x_mean)\n",
    "print (\"Mean of y: \",y_mean)\n",
    "dev_x = []\n",
    "dev_y = []\n",
    "product= []\n",
    "square_a = []\n",
    "y_predicted = []\n",
    "error = []\n",
    "for num in x:\n",
    "    c = num - x_mean\n",
    "    dev_x.append(c)\n",
    "print(\"\\n A = Deviation of X \", dev_x)\n",
    "print(sum(dev_x))\n",
    "\n",
    "for num in y:\n",
    "    d = num - y_mean\n",
    "    dev_y.append(d)\n",
    "print(\"\\n B = Deviation of Y \", dev_y)\n",
    "\n",
    "product = [dev_x[i]*dev_y[i] for i in range(len(x))]\n",
    "print(\"Product Of A and B \", product)\n",
    "\n",
    "N = sum(product)\n",
    "print(\"Value of N :\", N)\n",
    "\n",
    "square_A =  [dev_x[i]*dev_x[i] for i in range(len(x))]\n",
    "print(\"Square of A \",square_A)\n",
    "\n",
    "D = sum(square_A)\n",
    "print(\"Value of D: \",D)\n",
    "\n",
    "B1 = N/D\n",
    "B0 = (y_mean - (B1 * x_mean))\n",
    "\n",
    "print(\"Value Of B0 :\", B0)\n",
    "print(\"Value Of B1 :\",B1)\n",
    "\n",
    "for i in x:\n",
    "    y_predicted.append(B0 + (B1 * i))\n",
    "print(\"\\n Predicted Y \", y_predicted)\n",
    "\n",
    "error = [(y_predicted[i] - y[i]) ** 2 for i in range(len(x))]\n",
    "\n",
    "#print(error)\n",
    "\n",
    "RMSE = math.sqrt((sum(error)/N))\n",
    "print(\"RMSE :\", RMSE)"
   ]
  },
  {
   "cell_type": "markdown",
   "metadata": {},
   "source": [
    "# SLIP-4"
   ]
  },
  {
   "cell_type": "code",
   "execution_count": 14,
   "metadata": {},
   "outputs": [
    {
     "name": "stdout",
     "output_type": "stream",
     "text": [
      "o 4\n",
      "e 3\n",
      "t 2\n",
      "h 2\n",
      "u 2\n",
      "r 2\n"
     ]
    }
   ],
   "source": [
    "import collections\n",
    "str1 = 'thequickbrownfoxjumpsoverthelazydog'\n",
    "d = collections.defaultdict(int)\n",
    "for c in str1:\n",
    "    d[c] += 1\n",
    "\n",
    "for c in sorted(d, key=d.get, reverse=True):\n",
    "  if (d[c] > 1):\n",
    "      print('%s %d' % (c, d[c]))"
   ]
  },
  {
   "cell_type": "code",
   "execution_count": null,
   "metadata": {},
   "outputs": [],
   "source": [
    "graph = {'Ninad': set(['Shrikar', 'Dinesh']),\n",
    "         'Shrikar': set(['Ninad', 'Advait', 'Anuj']),\n",
    "         'Dinesh': set(['Ninad', 'Rohan']),\n",
    "         'Advait': set(['Shrikar']),\n",
    "         'Anuj': set(['Shrikar', 'Rohan']),\n",
    "         'Rohan': set(['Dinesh', 'Anuj'])}\n",
    "\n",
    "stack=[1]\n",
    "def push(e):\n",
    "    stack.insert(0,e)\n",
    "\n",
    "def pop():\n",
    "    return stack.pop(0)\n",
    "\n",
    "visited=[]\n",
    "\n",
    "while len(stack)!=0:\n",
    "    e=pop()\n",
    "    if e in visited: \n",
    "        pass\n",
    "    else:\n",
    "        visited.append(e)\n",
    "    for k in graph:\n",
    "        push(k)\n",
    "print(visited)"
   ]
  },
  {
   "cell_type": "code",
   "execution_count": null,
   "metadata": {},
   "outputs": [],
   "source": [
    "import matplotlib.pyplot as plt\n",
    "from sklearn import datasets\n",
    "from sklearn.cluster import KMeans\n",
    "#import sklearn.metrics as sm\n",
    "import pandas as pd\n",
    "import numpy as np\n",
    "\n",
    "iris = datasets.load_iris()\n",
    "x = pd.DataFrame(iris.data)\n",
    "x.columns = ['Sepal_Length','Sepal_Width','Petal_Length','Petal_Width']\n",
    "y = pd.DataFrame(iris.target)\n",
    "y.columns = ['Targets']\n",
    "model = KMeans(n_clusters=3)\n",
    "model.fit(x)\n",
    "model.labels_\n",
    "plt.figure(figsize=(14,7))\n",
    "\n",
    "colormap = np.array(['red','lime','black'])\n",
    "\n",
    "plt.subplot(1,2,1)\n",
    "plt.scatter(x.Petal_Length, x.Petal_Width, c=colormap[y.Targets],s=40)\n",
    "plt.title('Real Classification')\n",
    "\n",
    "plt.subplot(1, 2, 2)\n",
    "plt.scatter(x.Petal_Length,x.Petal_Width,c=colormap[model.labels_], s=40)\n",
    "plt.title('K Mean Classification')\n",
    "plt.show()"
   ]
  },
  {
   "cell_type": "markdown",
   "metadata": {},
   "source": [
    "# SLIP-5"
   ]
  },
  {
   "cell_type": "code",
   "execution_count": null,
   "metadata": {},
   "outputs": [],
   "source": [
    "def change_sring(str1):\n",
    "      return str1[-1:] + str1[1:-1] + str1[:1]\n",
    "\t  \n",
    "print(change_sring('abcd'))\n",
    "print(change_sring('12345'))\n"
   ]
  },
  {
   "cell_type": "code",
   "execution_count": null,
   "metadata": {},
   "outputs": [],
   "source": [
    "graph = {'Ninad': set(['Shrikar', 'Dinesh']),\n",
    "         'Shrikar': set(['Ninad', 'Advait', 'Anuj']),\n",
    "         'Dinesh': set(['Ninad', 'Rohan']),\n",
    "         'Advait': set(['Shrikar']),\n",
    "         'Anuj': set(['Shrikar', 'Rohan']),\n",
    "         'Rohan': set(['Dinesh', 'Anuj'])}\n",
    "\n",
    "stack=[1]\n",
    "def push(e):\n",
    "    stack.insert(0,e)\n",
    "\n",
    "def pop():\n",
    "    return stack.pop(0)\n",
    "\n",
    "visited=[]\n",
    "\n",
    "while len(stack)!=0:\n",
    "    e=pop()\n",
    "    if e in visited: \n",
    "        pass\n",
    "    else:\n",
    "        visited.append(e)\n",
    "    for k in graph:\n",
    "        push(k)\n",
    "print(visited)"
   ]
  },
  {
   "cell_type": "code",
   "execution_count": null,
   "metadata": {},
   "outputs": [],
   "source": [
    "from sklearn.naive_bayes import GaussianNB\n",
    "import pandas as pd\n",
    "import csv\n",
    "gaunb = GaussianNB()\n",
    "df = pd.read_csv('data.csv')\n",
    "\n",
    "X = df[['height','weight','shoeSize']]\n",
    "Y = df[['gender']]\n",
    "gaunb = gaunb.fit(X,Y)\n",
    "prediction = gaunb.predict([[113,41,29]])\n",
    "print(prediction)\n",
    "print(X,Y)"
   ]
  },
  {
   "cell_type": "code",
   "execution_count": null,
   "metadata": {},
   "outputs": [],
   "source": []
  }
 ],
 "metadata": {
  "kernelspec": {
   "display_name": "Python 3",
   "language": "python",
   "name": "python3"
  },
  "language_info": {
   "codemirror_mode": {
    "name": "ipython",
    "version": 3
   },
   "file_extension": ".py",
   "mimetype": "text/x-python",
   "name": "python",
   "nbconvert_exporter": "python",
   "pygments_lexer": "ipython3",
   "version": "3.7.1"
  }
 },
 "nbformat": 4,
 "nbformat_minor": 2
}
